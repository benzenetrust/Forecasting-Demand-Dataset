{
 "cells": [
  {
   "cell_type": "markdown",
   "metadata": {},
   "source": [
    "# Final Project  \n",
    "## Forecast Inventory Demand"
   ]
  },
  {
   "cell_type": "markdown",
   "metadata": {},
   "source": [
    "### Overview\n",
    "Planning a celebration is a balancing act of preparing just enough food to go around without being stuck eating the same leftovers for the next week. The key is anticipating how many guests will come. Grupo Bimbo must weigh similar considerations as it strives to meet daily consumer demand for fresh bakery products on the shelves of over 1 million stores along its 45,000 routes across Mexico.\n",
    "\n",
    "Currently, daily inventory calculations are performed by direct delivery sales employees who must single-handedly predict the forces of supply, demand, and hunger based on their personal experiences with each store. With some breads carrying a one week shelf life, the acceptable margin for error is small.\n",
    "\n",
    "In this competition, Grupo Bimbo invites Kagglers to develop a model to accurately forecast inventory demand based on historical sales data. Doing so will make sure consumers of its over 100 bakery products aren’t staring at empty shelves, while also reducing the amount spent on refunds to store owners with surplus product unfit for sale."
   ]
  },
  {
   "cell_type": "markdown",
   "metadata": {},
   "source": [
    "### Data\n",
    "In this competition, you will forecast the demand of a product for a given week, at a particular store. The dataset you are given consists of 9 weeks of sales transactions in Mexico. Every week, there are delivery trucks that deliver products to the vendors. Each transaction consists of sales and returns. Returns are the products that are unsold and expired. The demand for a product in a certain week is defined as the sales this week subtracted by the return next week.\n",
    "\n",
    "The train and test dataset are split based on time, as well as the public and private leaderboard dataset split.\n",
    "\n",
    "Things to note:\n",
    "There may be products in the test set that don't exist in the train set. This is the expected behavior of inventory data, since there are new products being sold all the time. Your model should be able to accommodate this. There are duplicate Cliente_ID's in cliente_tabla, which means one Cliente_ID may have multiple NombreCliente that are very similar. This is due to the NombreCliente being noisy and not standardized in the raw data, so it is up to you to decide how to clean up and use this information. The adjusted demand (Demanda_uni_equil) is always >= 0 since demand should be either 0 or a positive value. The reason that Venta_uni_hoy - Dev_uni_proxima sometimes has negative values is that the returns records sometimes carry over a few weeks.   \n",
    "##### File descriptions\n",
    "train.csv — the training set  \n",
    "test.csv — the test set  \n",
    "sample_submission.csv — a sample submission file in the correct format  \n",
    "cliente_tabla.csv — client names (can be joined with train/test on Cliente_ID)  \n",
    "producto_tabla.csv — product names (can be joined with train/test on Producto_ID)  \n",
    "town_state.csv — town and state (can be joined with train/test on Agencia_ID)     \n",
    "##### Data fields\n",
    "Semana — Week number (From Thursday to Wednesday)   \n",
    "Agencia_ID — Sales Depot ID   \n",
    "Canal_ID — Sales Channel ID   \n",
    "Ruta_SAK — Route ID (Several routes = Sales Depot)  \n",
    "Cliente_ID — Client ID  \n",
    "NombreCliente — Client name  \n",
    "Producto_ID — Product ID   \n",
    "NombreProducto — Product Name   \n",
    "Venta_uni_hoy — Sales unit this week (integer)   \n",
    "Venta_hoy — Sales this week (unit: pesos)   \n",
    "Dev_uni_proxima — Returns unit next week (integer)  \n",
    "Dev_proxima — Returns next week (unit: pesos)   \n",
    "Demanda_uni_equil — Adjusted Demand (integer) (This is the target you will predict)   "
   ]
  },
  {
   "attachments": {
    "residual.png": {
     "image/png": "[encoded data removed]"
    },
    "rmse.png": {
     "image/png": "[encoded data removed]"
    },
    "rmserror.png": {
     "image/png": "[encoded data removed]"
    },
    "root-mean-square-error.png": {
     "image/png": "[encoded data removed]"
    }
   },
   "cell_type": "markdown",
   "metadata": {},
   "source": [
    "### Evaluation RMSE\n",
    "\n",
    "![residual.png](attachment:residual.png)\n",
    "Root Mean Square Error (RMSE) is the standard deviation of the residuals (prediction errors). Residuals are a measure of how far from the regression line data points are; RMSE is a measure of how spread out these residuals are. In other words, it tells you how concentrated the data is around the line of best fit. Root mean square error is commonly used in climatology, forecasting, and regression analysis to verify experimental results.   \n",
    "The formula is:\n",
    "\n",
    "![rmse.png](attachment:rmse.png)\n",
    "\n",
    "Where:  \n",
    "f = forecasts (expected values or unknown results)  \n",
    "o = observed values (known results).\n",
    "\n",
    "The bar above the squared differences is the mean (similar to x̄). The same formula can be written with the following, slightly different, notation (Barnston, 1992):\n",
    "![root-mean-square-error.png](attachment:root-mean-square-error.png)\n",
    "\n",
    "Where:  \n",
    "Σ = summation (“add up”)  \n",
    "(zfi – Zoi)Sup>2 = differences, squared  \n",
    "N = sample size.\n",
    "\n",
    "You can use whichever formula you feel most comfortable with, as they both do the same thing. If you don’t like formulas, you can find the RMSE by:\n",
    "\n",
    "Squaring the residuals.\n",
    "Finding the average of the residuals.\n",
    "Taking the square root of the result.\n",
    "That said, this can be a lot of calculation, depending on how large your data set it. A shortcut to finding the root mean square error is:\n",
    "![rmserror.png](attachment:rmserror.png)\n",
    "\n",
    "Where SDy is the standard deviation of Y.\n",
    "\n",
    "When standardized observations and forecasts are used as RMSE inputs, there is a direct relationship with the correlation coefficient. For example, if the correlation coefficient is 1, the RMSE will be 0, because all of the points lie on the regression line (and therefore there are no errors)."
   ]
  },
  {
   "cell_type": "markdown",
   "metadata": {},
   "source": [
    "### 1. Preparation"
   ]
  },
  {
   "cell_type": "code",
   "execution_count": 2,
   "metadata": {},
   "outputs": [],
   "source": [
    "#import libraries\n",
    "import numpy as np\n",
    "import pandas as pd \n",
    "import matplotlib.pyplot as plt\n",
    "from sklearn.model_selection import train_test_split\n",
    "from sklearn.metrics import make_scorer, mean_squared_error\n",
    "\n",
    "import seaborn as sns\n",
    "\n",
    "%matplotlib inline"
   ]
  },
  {
   "cell_type": "code",
   "execution_count": 3,
   "metadata": {},
   "outputs": [],
   "source": [
    "df_train = pd.read_csv('Datasets/df_train.csv')\n",
    "df_test = pd.read_csv('Datasets/df_test.csv')"
   ]
  },
  {
   "cell_type": "code",
   "execution_count": 3,
   "metadata": {},
   "outputs": [],
   "source": [
    "df_train.columns = ['week_number', 'agent_id', 'channel_id', 'route_id', 'client_id', 'product_id', 'sales_unit_this_week', 'sales_this_week', 'returns_unit_next_week', 'returns_next_week', 'adjusted_demand']\n",
    "df_test.columns =['week_number', 'agent_id', 'channel_id', 'route_id', 'client_id', 'product_id', 'sales_unit_this_week', 'sales_this_week', 'returns_unit_next_week', 'returns_next_week', 'id']"
   ]
  },
  {
   "cell_type": "markdown",
   "metadata": {},
   "source": [
    "### 2. Data Quick look"
   ]
  },
  {
   "cell_type": "code",
   "execution_count": 4,
   "metadata": {},
   "outputs": [
    {
     "data": {
      "text/html": [
       "<div>\n",
       "<style scoped>\n",
       "    .dataframe tbody tr th:only-of-type {\n",
       "        vertical-align: middle;\n",
       "    }\n",
       "\n",
       "    .dataframe tbody tr th {\n",
       "        vertical-align: top;\n",
       "    }\n",
       "\n",
       "    .dataframe thead th {\n",
       "        text-align: right;\n",
       "    }\n",
       "</style>\n",
       "<table border=\"1\" class=\"dataframe\">\n",
       "  <thead>\n",
       "    <tr style=\"text-align: right;\">\n",
       "      <th></th>\n",
       "      <th>week_number</th>\n",
       "      <th>agent_id</th>\n",
       "      <th>channel_id</th>\n",
       "      <th>route_id</th>\n",
       "      <th>client_id</th>\n",
       "      <th>product_id</th>\n",
       "      <th>sales_unit_this_week</th>\n",
       "      <th>sales_this_week</th>\n",
       "      <th>returns_unit_next_week</th>\n",
       "      <th>returns_next_week</th>\n",
       "      <th>adjusted_demand</th>\n",
       "    </tr>\n",
       "  </thead>\n",
       "  <tbody>\n",
       "    <tr>\n",
       "      <td>0</td>\n",
       "      <td>3</td>\n",
       "      <td>1656</td>\n",
       "      <td>1</td>\n",
       "      <td>1219</td>\n",
       "      <td>1446836</td>\n",
       "      <td>41938</td>\n",
       "      <td>4</td>\n",
       "      <td>39.64</td>\n",
       "      <td>0</td>\n",
       "      <td>0.0</td>\n",
       "      <td>4</td>\n",
       "    </tr>\n",
       "    <tr>\n",
       "      <td>1</td>\n",
       "      <td>8</td>\n",
       "      <td>4013</td>\n",
       "      <td>4</td>\n",
       "      <td>4912</td>\n",
       "      <td>62969</td>\n",
       "      <td>43118</td>\n",
       "      <td>13</td>\n",
       "      <td>132.73</td>\n",
       "      <td>0</td>\n",
       "      <td>0.0</td>\n",
       "      <td>13</td>\n",
       "    </tr>\n",
       "    <tr>\n",
       "      <td>2</td>\n",
       "      <td>3</td>\n",
       "      <td>1914</td>\n",
       "      <td>1</td>\n",
       "      <td>1107</td>\n",
       "      <td>2098200</td>\n",
       "      <td>1250</td>\n",
       "      <td>3</td>\n",
       "      <td>22.92</td>\n",
       "      <td>0</td>\n",
       "      <td>0.0</td>\n",
       "      <td>3</td>\n",
       "    </tr>\n",
       "    <tr>\n",
       "      <td>3</td>\n",
       "      <td>7</td>\n",
       "      <td>1470</td>\n",
       "      <td>1</td>\n",
       "      <td>2014</td>\n",
       "      <td>1525315</td>\n",
       "      <td>43316</td>\n",
       "      <td>3</td>\n",
       "      <td>24.45</td>\n",
       "      <td>0</td>\n",
       "      <td>0.0</td>\n",
       "      <td>3</td>\n",
       "    </tr>\n",
       "    <tr>\n",
       "      <td>4</td>\n",
       "      <td>6</td>\n",
       "      <td>2034</td>\n",
       "      <td>1</td>\n",
       "      <td>1288</td>\n",
       "      <td>2239746</td>\n",
       "      <td>1212</td>\n",
       "      <td>3</td>\n",
       "      <td>25.14</td>\n",
       "      <td>0</td>\n",
       "      <td>0.0</td>\n",
       "      <td>3</td>\n",
       "    </tr>\n",
       "  </tbody>\n",
       "</table>\n",
       "</div>"
      ],
      "text/plain": [
       "   week_number  agent_id  channel_id  route_id  client_id  product_id  \\\n",
       "0            3      1656           1      1219    1446836       41938   \n",
       "1            8      4013           4      4912      62969       43118   \n",
       "2            3      1914           1      1107    2098200        1250   \n",
       "3            7      1470           1      2014    1525315       43316   \n",
       "4            6      2034           1      1288    2239746        1212   \n",
       "\n",
       "   sales_unit_this_week  sales_this_week  returns_unit_next_week  \\\n",
       "0                     4            39.64                       0   \n",
       "1                    13           132.73                       0   \n",
       "2                     3            22.92                       0   \n",
       "3                     3            24.45                       0   \n",
       "4                     3            25.14                       0   \n",
       "\n",
       "   returns_next_week  adjusted_demand  \n",
       "0                0.0                4  \n",
       "1                0.0               13  \n",
       "2                0.0                3  \n",
       "3                0.0                3  \n",
       "4                0.0                3  "
      ]
     },
     "execution_count": 4,
     "metadata": {},
     "output_type": "execute_result"
    }
   ],
   "source": [
    "df_train.head()"
   ]
  },
  {
   "cell_type": "code",
   "execution_count": 5,
   "metadata": {},
   "outputs": [
    {
     "name": "stdout",
     "output_type": "stream",
     "text": [
      "<class 'pandas.core.frame.DataFrame'>\n",
      "RangeIndex: 670000 entries, 0 to 669999\n",
      "Data columns (total 11 columns):\n",
      "week_number               670000 non-null int64\n",
      "agent_id                  670000 non-null int64\n",
      "channel_id                670000 non-null int64\n",
      "route_id                  670000 non-null int64\n",
      "client_id                 670000 non-null int64\n",
      "product_id                670000 non-null int64\n",
      "sales_unit_this_week      670000 non-null int64\n",
      "sales_this_week           670000 non-null float64\n",
      "returns_unit_next_week    670000 non-null int64\n",
      "returns_next_week         670000 non-null float64\n",
      "adjusted_demand           670000 non-null int64\n",
      "dtypes: float64(2), int64(9)\n",
      "memory usage: 56.2 MB\n"
     ]
    }
   ],
   "source": [
    "df_train.info()"
   ]
  },
  {
   "cell_type": "markdown",
   "metadata": {},
   "source": [
    "### 3. Dropping and handling Outliers"
   ]
  },
  {
   "cell_type": "code",
   "execution_count": 6,
   "metadata": {
    "scrolled": true
   },
   "outputs": [
    {
     "data": {
      "text/plain": [
       "week_number               0\n",
       "agent_id                  0\n",
       "channel_id                0\n",
       "route_id                  0\n",
       "client_id                 0\n",
       "product_id                0\n",
       "sales_unit_this_week      0\n",
       "sales_this_week           0\n",
       "returns_unit_next_week    0\n",
       "returns_next_week         0\n",
       "adjusted_demand           0\n",
       "dtype: int64"
      ]
     },
     "execution_count": 6,
     "metadata": {},
     "output_type": "execute_result"
    }
   ],
   "source": [
    "df_train.isnull().sum()"
   ]
  },
  {
   "cell_type": "code",
   "execution_count": 7,
   "metadata": {},
   "outputs": [],
   "source": [
    "df_train.drop(['agent_id', 'channel_id', 'route_id', 'client_id', 'product_id'], axis=1, inplace=True)"
   ]
  },
  {
   "cell_type": "code",
   "execution_count": 8,
   "metadata": {},
   "outputs": [],
   "source": [
    "df_train_1 =df_train[['week_number', 'sales_unit_this_week', 'sales_this_week', 'returns_unit_next_week', 'returns_next_week', 'adjusted_demand']]"
   ]
  },
  {
   "cell_type": "code",
   "execution_count": 9,
   "metadata": {},
   "outputs": [
    {
     "name": "stdout",
     "output_type": "stream",
     "text": [
      "week_number                4.00\n",
      "sales_unit_this_week       5.00\n",
      "sales_this_week           39.49\n",
      "returns_unit_next_week     0.00\n",
      "returns_next_week          0.00\n",
      "adjusted_demand            4.00\n",
      "dtype: float64\n"
     ]
    }
   ],
   "source": [
    "Q1 = df_train_1.quantile(0.25)\n",
    "Q3 = df_train_1.quantile(0.75)\n",
    "IQR = Q3 - Q1\n",
    "print(IQR)"
   ]
  },
  {
   "cell_type": "code",
   "execution_count": 10,
   "metadata": {},
   "outputs": [
    {
     "data": {
      "text/plain": [
       "(556647, 6)"
      ]
     },
     "execution_count": 10,
     "metadata": {},
     "output_type": "execute_result"
    }
   ],
   "source": [
    "sales_clean = df_train_1[~((df_train_1 < (Q1 - 1.5 * IQR)) |(df_train_1 > (Q3 + 1.5 * IQR))).any(axis=1)]\n",
    "sales_clean.shape"
   ]
  },
  {
   "cell_type": "markdown",
   "metadata": {},
   "source": [
    "### 4. Exploratory data analysis"
   ]
  },
  {
   "cell_type": "code",
   "execution_count": 11,
   "metadata": {},
   "outputs": [
    {
     "data": {
      "text/html": [
       "<div>\n",
       "<style scoped>\n",
       "    .dataframe tbody tr th:only-of-type {\n",
       "        vertical-align: middle;\n",
       "    }\n",
       "\n",
       "    .dataframe tbody tr th {\n",
       "        vertical-align: top;\n",
       "    }\n",
       "\n",
       "    .dataframe thead th {\n",
       "        text-align: right;\n",
       "    }\n",
       "</style>\n",
       "<table border=\"1\" class=\"dataframe\">\n",
       "  <thead>\n",
       "    <tr style=\"text-align: right;\">\n",
       "      <th></th>\n",
       "      <th>week_number</th>\n",
       "      <th>sales_unit_this_week</th>\n",
       "      <th>sales_this_week</th>\n",
       "      <th>returns_unit_next_week</th>\n",
       "      <th>returns_next_week</th>\n",
       "      <th>adjusted_demand</th>\n",
       "    </tr>\n",
       "  </thead>\n",
       "  <tbody>\n",
       "    <tr>\n",
       "      <td>count</td>\n",
       "      <td>670000.000000</td>\n",
       "      <td>670000.000000</td>\n",
       "      <td>670000.000000</td>\n",
       "      <td>670000.000000</td>\n",
       "      <td>670000.000000</td>\n",
       "      <td>670000.000000</td>\n",
       "    </tr>\n",
       "    <tr>\n",
       "      <td>mean</td>\n",
       "      <td>5.948612</td>\n",
       "      <td>7.349776</td>\n",
       "      <td>68.379301</td>\n",
       "      <td>0.142752</td>\n",
       "      <td>1.314138</td>\n",
       "      <td>7.254504</td>\n",
       "    </tr>\n",
       "    <tr>\n",
       "      <td>std</td>\n",
       "      <td>2.013050</td>\n",
       "      <td>24.037040</td>\n",
       "      <td>286.281299</td>\n",
       "      <td>10.767142</td>\n",
       "      <td>70.484346</td>\n",
       "      <td>22.241510</td>\n",
       "    </tr>\n",
       "    <tr>\n",
       "      <td>min</td>\n",
       "      <td>3.000000</td>\n",
       "      <td>0.000000</td>\n",
       "      <td>0.000000</td>\n",
       "      <td>0.000000</td>\n",
       "      <td>0.000000</td>\n",
       "      <td>0.000000</td>\n",
       "    </tr>\n",
       "    <tr>\n",
       "      <td>25%</td>\n",
       "      <td>4.000000</td>\n",
       "      <td>2.000000</td>\n",
       "      <td>16.760000</td>\n",
       "      <td>0.000000</td>\n",
       "      <td>0.000000</td>\n",
       "      <td>2.000000</td>\n",
       "    </tr>\n",
       "    <tr>\n",
       "      <td>50%</td>\n",
       "      <td>6.000000</td>\n",
       "      <td>3.000000</td>\n",
       "      <td>30.000000</td>\n",
       "      <td>0.000000</td>\n",
       "      <td>0.000000</td>\n",
       "      <td>3.000000</td>\n",
       "    </tr>\n",
       "    <tr>\n",
       "      <td>75%</td>\n",
       "      <td>8.000000</td>\n",
       "      <td>7.000000</td>\n",
       "      <td>56.250000</td>\n",
       "      <td>0.000000</td>\n",
       "      <td>0.000000</td>\n",
       "      <td>6.000000</td>\n",
       "    </tr>\n",
       "    <tr>\n",
       "      <td>max</td>\n",
       "      <td>9.000000</td>\n",
       "      <td>7200.000000</td>\n",
       "      <td>32470.000000</td>\n",
       "      <td>6768.000000</td>\n",
       "      <td>51840.000000</td>\n",
       "      <td>4380.000000</td>\n",
       "    </tr>\n",
       "  </tbody>\n",
       "</table>\n",
       "</div>"
      ],
      "text/plain": [
       "         week_number  sales_unit_this_week  sales_this_week  \\\n",
       "count  670000.000000         670000.000000    670000.000000   \n",
       "mean        5.948612              7.349776        68.379301   \n",
       "std         2.013050             24.037040       286.281299   \n",
       "min         3.000000              0.000000         0.000000   \n",
       "25%         4.000000              2.000000        16.760000   \n",
       "50%         6.000000              3.000000        30.000000   \n",
       "75%         8.000000              7.000000        56.250000   \n",
       "max         9.000000           7200.000000     32470.000000   \n",
       "\n",
       "       returns_unit_next_week  returns_next_week  adjusted_demand  \n",
       "count           670000.000000      670000.000000    670000.000000  \n",
       "mean                 0.142752           1.314138         7.254504  \n",
       "std                 10.767142          70.484346        22.241510  \n",
       "min                  0.000000           0.000000         0.000000  \n",
       "25%                  0.000000           0.000000         2.000000  \n",
       "50%                  0.000000           0.000000         3.000000  \n",
       "75%                  0.000000           0.000000         6.000000  \n",
       "max               6768.000000       51840.000000      4380.000000  "
      ]
     },
     "execution_count": 11,
     "metadata": {},
     "output_type": "execute_result"
    }
   ],
   "source": [
    "df_train.describe()"
   ]
  },
  {
   "cell_type": "code",
   "execution_count": 12,
   "metadata": {
    "scrolled": true
   },
   "outputs": [
    {
     "data": {
      "text/html": [
       "<div>\n",
       "<style scoped>\n",
       "    .dataframe tbody tr th:only-of-type {\n",
       "        vertical-align: middle;\n",
       "    }\n",
       "\n",
       "    .dataframe tbody tr th {\n",
       "        vertical-align: top;\n",
       "    }\n",
       "\n",
       "    .dataframe thead th {\n",
       "        text-align: right;\n",
       "    }\n",
       "</style>\n",
       "<table border=\"1\" class=\"dataframe\">\n",
       "  <thead>\n",
       "    <tr style=\"text-align: right;\">\n",
       "      <th></th>\n",
       "      <th>week_number</th>\n",
       "      <th>sales_unit_this_week</th>\n",
       "      <th>sales_this_week</th>\n",
       "      <th>returns_unit_next_week</th>\n",
       "      <th>returns_next_week</th>\n",
       "      <th>adjusted_demand</th>\n",
       "    </tr>\n",
       "  </thead>\n",
       "  <tbody>\n",
       "    <tr>\n",
       "      <td>week_number</td>\n",
       "      <td>1.000000</td>\n",
       "      <td>0.003632</td>\n",
       "      <td>0.001532</td>\n",
       "      <td>0.001279</td>\n",
       "      <td>0.000804</td>\n",
       "      <td>0.003281</td>\n",
       "    </tr>\n",
       "    <tr>\n",
       "      <td>sales_unit_this_week</td>\n",
       "      <td>0.003632</td>\n",
       "      <td>1.000000</td>\n",
       "      <td>0.757942</td>\n",
       "      <td>0.294761</td>\n",
       "      <td>0.155620</td>\n",
       "      <td>0.937850</td>\n",
       "    </tr>\n",
       "    <tr>\n",
       "      <td>sales_this_week</td>\n",
       "      <td>0.001532</td>\n",
       "      <td>0.757942</td>\n",
       "      <td>1.000000</td>\n",
       "      <td>0.085504</td>\n",
       "      <td>0.062681</td>\n",
       "      <td>0.777521</td>\n",
       "    </tr>\n",
       "    <tr>\n",
       "      <td>returns_unit_next_week</td>\n",
       "      <td>0.001279</td>\n",
       "      <td>0.294761</td>\n",
       "      <td>0.085504</td>\n",
       "      <td>1.000000</td>\n",
       "      <td>0.868027</td>\n",
       "      <td>0.026576</td>\n",
       "    </tr>\n",
       "    <tr>\n",
       "      <td>returns_next_week</td>\n",
       "      <td>0.000804</td>\n",
       "      <td>0.155620</td>\n",
       "      <td>0.062681</td>\n",
       "      <td>0.868027</td>\n",
       "      <td>1.000000</td>\n",
       "      <td>0.024821</td>\n",
       "    </tr>\n",
       "    <tr>\n",
       "      <td>adjusted_demand</td>\n",
       "      <td>0.003281</td>\n",
       "      <td>0.937850</td>\n",
       "      <td>0.777521</td>\n",
       "      <td>0.026576</td>\n",
       "      <td>0.024821</td>\n",
       "      <td>1.000000</td>\n",
       "    </tr>\n",
       "  </tbody>\n",
       "</table>\n",
       "</div>"
      ],
      "text/plain": [
       "                        week_number  sales_unit_this_week  sales_this_week  \\\n",
       "week_number                1.000000              0.003632         0.001532   \n",
       "sales_unit_this_week       0.003632              1.000000         0.757942   \n",
       "sales_this_week            0.001532              0.757942         1.000000   \n",
       "returns_unit_next_week     0.001279              0.294761         0.085504   \n",
       "returns_next_week          0.000804              0.155620         0.062681   \n",
       "adjusted_demand            0.003281              0.937850         0.777521   \n",
       "\n",
       "                        returns_unit_next_week  returns_next_week  \\\n",
       "week_number                           0.001279           0.000804   \n",
       "sales_unit_this_week                  0.294761           0.155620   \n",
       "sales_this_week                       0.085504           0.062681   \n",
       "returns_unit_next_week                1.000000           0.868027   \n",
       "returns_next_week                     0.868027           1.000000   \n",
       "adjusted_demand                       0.026576           0.024821   \n",
       "\n",
       "                        adjusted_demand  \n",
       "week_number                    0.003281  \n",
       "sales_unit_this_week           0.937850  \n",
       "sales_this_week                0.777521  \n",
       "returns_unit_next_week         0.026576  \n",
       "returns_next_week              0.024821  \n",
       "adjusted_demand                1.000000  "
      ]
     },
     "execution_count": 12,
     "metadata": {},
     "output_type": "execute_result"
    }
   ],
   "source": [
    "df_train.corr()"
   ]
  },
  {
   "cell_type": "markdown",
   "metadata": {},
   "source": [
    "### 5. Data Visualization"
   ]
  },
  {
   "cell_type": "markdown",
   "metadata": {},
   "source": [
    "#### Data visualization before data handling"
   ]
  },
  {
   "cell_type": "code",
   "execution_count": 13,
   "metadata": {},
   "outputs": [
    {
     "data": {
      "image/png": "[encoded data removed]",
      "text/plain": [
       "<Figure size 432x288 with 1 Axes>"
      ]
     },
     "metadata": {
      "needs_background": "light"
     },
     "output_type": "display_data"
    }
   ],
   "source": [
    "plt.scatter(df_train.sales_unit_this_week, df_train.adjusted_demand,  color='blue', alpha=0.3)\n",
    "plt.xlabel(\"Sales Unit\")\n",
    "plt.ylabel(\"Demand\")\n",
    "plt.show()\n",
    "# plt.savefig(\"linear reg.jpg\")"
   ]
  },
  {
   "cell_type": "code",
   "execution_count": 21,
   "metadata": {},
   "outputs": [
    {
     "data": {
      "image/png": "[encoded data removed]",
      "text/plain": [
       "<Figure size 432x288 with 1 Axes>"
      ]
     },
     "metadata": {
      "needs_background": "light"
     },
     "output_type": "display_data"
    }
   ],
   "source": [
    "sns.boxplot(x=df_train['sales_unit_this_week'],saturation=0.5,color='blue')\n",
    "plt.show()"
   ]
  },
  {
   "cell_type": "code",
   "execution_count": 15,
   "metadata": {
    "scrolled": true
   },
   "outputs": [
    {
     "data": {
      "image/png": "[encoded data removed]",
      "text/plain": [
       "<Figure size 432x288 with 1 Axes>"
      ]
     },
     "metadata": {
      "needs_background": "light"
     },
     "output_type": "display_data"
    }
   ],
   "source": [
    "plt.scatter(df_train.sales_this_week, df_train.adjusted_demand,  color='blue',alpha=0.3)\n",
    "plt.xlabel(\"Sales\")\n",
    "plt.ylabel(\"Demand\")\n",
    "plt.show()"
   ]
  },
  {
   "cell_type": "code",
   "execution_count": 33,
   "metadata": {},
   "outputs": [
    {
     "data": {
      "image/png": "[encoded data removed]",
      "text/plain": [
       "<Figure size 432x288 with 1 Axes>"
      ]
     },
     "metadata": {
      "needs_background": "light"
     },
     "output_type": "display_data"
    }
   ],
   "source": [
    "sns.boxplot(x=df_train['sales_this_week'],saturation=0.5,color='blue')\n",
    "plt.show()"
   ]
  },
  {
   "cell_type": "markdown",
   "metadata": {},
   "source": [
    "#### Data visualization after data handling"
   ]
  },
  {
   "cell_type": "code",
   "execution_count": 16,
   "metadata": {},
   "outputs": [
    {
     "data": {
      "image/png": "[encoded data removed]",
      "text/plain": [
       "<Figure size 432x288 with 1 Axes>"
      ]
     },
     "metadata": {
      "needs_background": "light"
     },
     "output_type": "display_data"
    }
   ],
   "source": [
    "fig, ax = plt.subplots()\n",
    "ax.scatter(sales_clean['sales_unit_this_week'], sales_clean['adjusted_demand'])\n",
    "plt.show()"
   ]
  },
  {
   "cell_type": "code",
   "execution_count": 17,
   "metadata": {
    "scrolled": false
   },
   "outputs": [
    {
     "data": {
      "image/png": "[encoded data removed]",
      "text/plain": [
       "<Figure size 432x288 with 1 Axes>"
      ]
     },
     "metadata": {
      "needs_background": "light"
     },
     "output_type": "display_data"
    }
   ],
   "source": [
    "sns.boxplot(x=sales_clean['sales_unit_this_week'],saturation=0.5,color='blue')\n",
    "plt.show()"
   ]
  },
  {
   "cell_type": "code",
   "execution_count": 18,
   "metadata": {},
   "outputs": [
    {
     "data": {
      "image/png": "[encoded data removed]",
      "text/plain": [
       "<Figure size 432x288 with 1 Axes>"
      ]
     },
     "metadata": {
      "needs_background": "light"
     },
     "output_type": "display_data"
    }
   ],
   "source": [
    "sns.boxplot(x=sales_clean['sales_this_week'],saturation=0.5,color='blue')\n",
    "plt.show()"
   ]
  },
  {
   "cell_type": "markdown",
   "metadata": {},
   "source": [
    "### 6. Train Test Split"
   ]
  },
  {
   "cell_type": "code",
   "execution_count": 22,
   "metadata": {},
   "outputs": [],
   "source": [
    "sales = sales_clean[['sales_unit_this_week','sales_this_week']]\n",
    "demand =sales_clean['adjusted_demand']\n",
    "\n",
    "x = np.array(sales).reshape(-1, 2) #independent variable\n",
    "y = np.array(demand) # dependent variable"
   ]
  },
  {
   "cell_type": "code",
   "execution_count": 23,
   "metadata": {},
   "outputs": [],
   "source": [
    "xtrain, xtest, ytrain, ytest = train_test_split(x,y,test_size=0.2, random_state=42)"
   ]
  },
  {
   "cell_type": "markdown",
   "metadata": {},
   "source": [
    "### 7. Modeling"
   ]
  },
  {
   "cell_type": "code",
   "execution_count": 24,
   "metadata": {},
   "outputs": [
    {
     "data": {
      "text/plain": [
       "LinearRegression(copy_X=True, fit_intercept=True, n_jobs=None, normalize=False)"
      ]
     },
     "execution_count": 24,
     "metadata": {},
     "output_type": "execute_result"
    }
   ],
   "source": [
    "from sklearn.linear_model import LinearRegression \n",
    "regr = LinearRegression()\n",
    "regr.fit(xtrain,ytrain)"
   ]
  },
  {
   "cell_type": "markdown",
   "metadata": {},
   "source": [
    "### 8.Prediction and Scores"
   ]
  },
  {
   "cell_type": "code",
   "execution_count": 25,
   "metadata": {},
   "outputs": [
    {
     "data": {
      "text/plain": [
       "array([10.,  1.,  3., ...,  4.,  1.,  3.])"
      ]
     },
     "execution_count": 25,
     "metadata": {},
     "output_type": "execute_result"
    }
   ],
   "source": [
    "preds = regr.predict(xtest)\n",
    "preds"
   ]
  },
  {
   "cell_type": "code",
   "execution_count": 26,
   "metadata": {},
   "outputs": [
    {
     "name": "stdout",
     "output_type": "stream",
     "text": [
      "Variance score: 1.00\n"
     ]
    }
   ],
   "source": [
    "from sklearn.metrics import r2_score\n",
    "print('Variance score: %.2f' % r2_score(ytest, preds))"
   ]
  },
  {
   "cell_type": "code",
   "execution_count": 27,
   "metadata": {},
   "outputs": [
    {
     "data": {
      "text/plain": [
       "4.128515459389181e-13"
      ]
     },
     "execution_count": 27,
     "metadata": {},
     "output_type": "execute_result"
    }
   ],
   "source": [
    "rmse = mean_squared_error(ytest, preds , squared=False)\n",
    "rmse"
   ]
  },
  {
   "cell_type": "markdown",
   "metadata": {},
   "source": [
    "### 9. Result"
   ]
  },
  {
   "cell_type": "code",
   "execution_count": 28,
   "metadata": {},
   "outputs": [],
   "source": [
    "salestest = df_test[['sales_unit_this_week', 'sales_this_week']]"
   ]
  },
  {
   "cell_type": "code",
   "execution_count": 29,
   "metadata": {},
   "outputs": [
    {
     "data": {
      "text/plain": [
       "array([5., 2., 6., ..., 5., 3., 1.])"
      ]
     },
     "execution_count": 29,
     "metadata": {},
     "output_type": "execute_result"
    }
   ],
   "source": [
    "ykaggle = regr.predict(salestest)\n",
    "ykaggle"
   ]
  },
  {
   "cell_type": "code",
   "execution_count": 30,
   "metadata": {},
   "outputs": [
    {
     "data": {
      "text/html": [
       "<div>\n",
       "<style scoped>\n",
       "    .dataframe tbody tr th:only-of-type {\n",
       "        vertical-align: middle;\n",
       "    }\n",
       "\n",
       "    .dataframe tbody tr th {\n",
       "        vertical-align: top;\n",
       "    }\n",
       "\n",
       "    .dataframe thead th {\n",
       "        text-align: right;\n",
       "    }\n",
       "</style>\n",
       "<table border=\"1\" class=\"dataframe\">\n",
       "  <thead>\n",
       "    <tr style=\"text-align: right;\">\n",
       "      <th></th>\n",
       "      <th>Actual</th>\n",
       "      <th>Predicted</th>\n",
       "    </tr>\n",
       "  </thead>\n",
       "  <tbody>\n",
       "    <tr>\n",
       "      <td>0</td>\n",
       "      <td>10</td>\n",
       "      <td>10.0</td>\n",
       "    </tr>\n",
       "    <tr>\n",
       "      <td>1</td>\n",
       "      <td>1</td>\n",
       "      <td>1.0</td>\n",
       "    </tr>\n",
       "    <tr>\n",
       "      <td>2</td>\n",
       "      <td>3</td>\n",
       "      <td>3.0</td>\n",
       "    </tr>\n",
       "    <tr>\n",
       "      <td>3</td>\n",
       "      <td>12</td>\n",
       "      <td>12.0</td>\n",
       "    </tr>\n",
       "    <tr>\n",
       "      <td>4</td>\n",
       "      <td>10</td>\n",
       "      <td>10.0</td>\n",
       "    </tr>\n",
       "    <tr>\n",
       "      <td>5</td>\n",
       "      <td>1</td>\n",
       "      <td>1.0</td>\n",
       "    </tr>\n",
       "    <tr>\n",
       "      <td>6</td>\n",
       "      <td>2</td>\n",
       "      <td>2.0</td>\n",
       "    </tr>\n",
       "    <tr>\n",
       "      <td>7</td>\n",
       "      <td>2</td>\n",
       "      <td>2.0</td>\n",
       "    </tr>\n",
       "    <tr>\n",
       "      <td>8</td>\n",
       "      <td>2</td>\n",
       "      <td>2.0</td>\n",
       "    </tr>\n",
       "    <tr>\n",
       "      <td>9</td>\n",
       "      <td>1</td>\n",
       "      <td>1.0</td>\n",
       "    </tr>\n",
       "  </tbody>\n",
       "</table>\n",
       "</div>"
      ],
      "text/plain": [
       "   Actual  Predicted\n",
       "0      10       10.0\n",
       "1       1        1.0\n",
       "2       3        3.0\n",
       "3      12       12.0\n",
       "4      10       10.0\n",
       "5       1        1.0\n",
       "6       2        2.0\n",
       "7       2        2.0\n",
       "8       2        2.0\n",
       "9       1        1.0"
      ]
     },
     "execution_count": 30,
     "metadata": {},
     "output_type": "execute_result"
    }
   ],
   "source": [
    "df_pred = pd.DataFrame({'Actual': ytest.flatten(), 'Predicted': preds.flatten()})\n",
    "df_pred.head(10)"
   ]
  },
  {
   "cell_type": "code",
   "execution_count": 31,
   "metadata": {},
   "outputs": [
    {
     "data": {
      "image/png": "[encoded data removed]",
      "text/plain": [
       "<Figure size 720x432 with 1 Axes>"
      ]
     },
     "metadata": {
      "needs_background": "light"
     },
     "output_type": "display_data"
    }
   ],
   "source": [
    "df1 = df_pred.head(25)\n",
    "df1.plot(kind='bar',figsize=(10,6))\n",
    "plt.grid(which='major', linestyle='-', linewidth='0.5', color='green')\n",
    "plt.grid(which='minor', linestyle=':', linewidth='0.5', color='black')\n",
    "plt.savefig(\"barchart.png\")\n",
    "plt.show()"
   ]
  },
  {
   "cell_type": "markdown",
   "metadata": {},
   "source": [
    "### 10. Submitted!"
   ]
  },
  {
   "cell_type": "code",
   "execution_count": 32,
   "metadata": {},
   "outputs": [
    {
     "data": {
      "text/html": [
       "<div>\n",
       "<style scoped>\n",
       "    .dataframe tbody tr th:only-of-type {\n",
       "        vertical-align: middle;\n",
       "    }\n",
       "\n",
       "    .dataframe tbody tr th {\n",
       "        vertical-align: top;\n",
       "    }\n",
       "\n",
       "    .dataframe thead th {\n",
       "        text-align: right;\n",
       "    }\n",
       "</style>\n",
       "<table border=\"1\" class=\"dataframe\">\n",
       "  <thead>\n",
       "    <tr style=\"text-align: right;\">\n",
       "      <th></th>\n",
       "      <th>id</th>\n",
       "      <th>Predicted</th>\n",
       "    </tr>\n",
       "  </thead>\n",
       "  <tbody>\n",
       "    <tr>\n",
       "      <td>0</td>\n",
       "      <td>0</td>\n",
       "      <td>5.0</td>\n",
       "    </tr>\n",
       "    <tr>\n",
       "      <td>1</td>\n",
       "      <td>1</td>\n",
       "      <td>2.0</td>\n",
       "    </tr>\n",
       "    <tr>\n",
       "      <td>2</td>\n",
       "      <td>2</td>\n",
       "      <td>6.0</td>\n",
       "    </tr>\n",
       "    <tr>\n",
       "      <td>3</td>\n",
       "      <td>3</td>\n",
       "      <td>8.0</td>\n",
       "    </tr>\n",
       "    <tr>\n",
       "      <td>4</td>\n",
       "      <td>4</td>\n",
       "      <td>15.0</td>\n",
       "    </tr>\n",
       "    <tr>\n",
       "      <td>5</td>\n",
       "      <td>5</td>\n",
       "      <td>6.0</td>\n",
       "    </tr>\n",
       "    <tr>\n",
       "      <td>6</td>\n",
       "      <td>6</td>\n",
       "      <td>10.0</td>\n",
       "    </tr>\n",
       "    <tr>\n",
       "      <td>7</td>\n",
       "      <td>7</td>\n",
       "      <td>2.0</td>\n",
       "    </tr>\n",
       "    <tr>\n",
       "      <td>8</td>\n",
       "      <td>8</td>\n",
       "      <td>1.0</td>\n",
       "    </tr>\n",
       "    <tr>\n",
       "      <td>9</td>\n",
       "      <td>9</td>\n",
       "      <td>2.0</td>\n",
       "    </tr>\n",
       "  </tbody>\n",
       "</table>\n",
       "</div>"
      ],
      "text/plain": [
       "   id  Predicted\n",
       "0   0        5.0\n",
       "1   1        2.0\n",
       "2   2        6.0\n",
       "3   3        8.0\n",
       "4   4       15.0\n",
       "5   5        6.0\n",
       "6   6       10.0\n",
       "7   7        2.0\n",
       "8   8        1.0\n",
       "9   9        2.0"
      ]
     },
     "execution_count": 32,
     "metadata": {},
     "output_type": "execute_result"
    }
   ],
   "source": [
    "df_kaggle = pd.DataFrame({'id' : df_test['id'], 'Predicted': ykaggle.flatten()})\n",
    "df_kaggle.head(10)"
   ]
  },
  {
   "cell_type": "code",
   "execution_count": null,
   "metadata": {},
   "outputs": [],
   "source": [
    "# df_kaggle.to_csv('Submissionkaggle.csv',index=False)"
   ]
  }
 ],
 "metadata": {
  "kernelspec": {
   "display_name": "Python 3",
   "language": "python",
   "name": "python3"
  },
  "language_info": {
   "codemirror_mode": {
    "name": "ipython",
    "version": 3
   },
   "file_extension": ".py",
   "mimetype": "text/x-python",
   "name": "python",
   "nbconvert_exporter": "python",
   "pygments_lexer": "ipython3",
   "version": "3.7.4"
  }
 },
 "nbformat": 4,
 "nbformat_minor": 2
}
